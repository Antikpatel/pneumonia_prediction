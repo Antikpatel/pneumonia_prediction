{
  "nbformat": 4,
  "nbformat_minor": 0,
  "metadata": {
    "colab": {
      "name": "bestchestxay model.ipynb",
      "version": "0.3.2",
      "provenance": [],
      "collapsed_sections": []
    },
    "kernelspec": {
      "name": "python3",
      "display_name": "Python 3"
    },
    "accelerator": "GPU"
  },
  "cells": [
    {
      "metadata": {
        "id": "zhw6ZYGUG34Z",
        "colab_type": "code",
        "outputId": "6f3549be-5b4c-4071-9e47-63adc3425179",
        "colab": {
          "base_uri": "https://localhost:8080/",
          "height": 36
        }
      },
      "cell_type": "code",
      "source": [
        "import numpy as np # linear algebra\n",
        "import pandas as pd # data processing, \n",
        "\n",
        "import os\n",
        "print(os.listdir(\"chest_xray\"))\n",
        "from glob import glob\n",
        "from PIL import Image\n",
        "%matplotlib inline\n",
        "import matplotlib.pyplot as plt\n",
        "import cv2\n",
        "import fnmatch\n",
        "import keras\n",
        "from time import sleep\n",
        "from keras.utils import to_categorical\n",
        "from keras.models import Sequential\n",
        "from keras.layers import Dense,Conv2D,MaxPool2D,Dropout,Flatten,BatchNormalization,MaxPooling2D,Activation\n",
        "from keras.optimizers import RMSprop,Adam\n",
        "from tensorflow.keras.callbacks import EarlyStopping\n",
        "from keras import backend as k"
      ],
      "execution_count": 17,
      "outputs": [
        {
          "output_type": "stream",
          "text": [
            "['train', '.DS_Store', 'test', 'val']\n"
          ],
          "name": "stdout"
        }
      ]
    },
    {
      "metadata": {
        "id": "SJN0oFvTHLGf",
        "colab_type": "code",
        "outputId": "a37c0511-db74-4cfb-8898-d03deeef6672",
        "colab": {
          "base_uri": "https://localhost:8080/",
          "height": 36
        }
      },
      "cell_type": "code",
      "source": [
        "imagePatches = glob('chest_xray/**/**/*.jpeg', recursive=True)\n",
        "print(len(imagePatches))"
      ],
      "execution_count": 18,
      "outputs": [
        {
          "output_type": "stream",
          "text": [
            "17568\n"
          ],
          "name": "stdout"
        }
      ]
    },
    {
      "metadata": {
        "id": "wkX2OsKTHah2",
        "colab_type": "code",
        "colab": {}
      },
      "cell_type": "code",
      "source": [
        "pattern_normal = '*NORMAL*'\n",
        "pattern_bacteria = '*_bacteria_*'\n",
        "pattern_virus = '*_virus_*'\n",
        "\n",
        "normal = fnmatch.filter(imagePatches, pattern_normal)\n",
        "bacteria = fnmatch.filter(imagePatches, pattern_bacteria)\n",
        "virus = fnmatch.filter(imagePatches, pattern_virus)\n",
        "x = []\n",
        "y = []\n",
        "for img in imagePatches:\n",
        "    full_size_image = cv2.imread(img)\n",
        "    im = cv2.resize(full_size_image, (224, 224), interpolation=cv2.INTER_CUBIC)\n",
        "    x.append(im)\n",
        "    if img in normal:\n",
        "        y.append(0)\n",
        "    elif img in bacteria:\n",
        "        y.append(1)\n",
        "    elif img in virus:\n",
        "        y.append(1)\n",
        "    else:\n",
        "        #break\n",
        "        print('no class')\n",
        "x = np.array(x)\n",
        "y = np.array(y)"
      ],
      "execution_count": 0,
      "outputs": []
    },
    {
      "metadata": {
        "id": "hyQn7HK0HgAv",
        "colab_type": "code",
        "colab": {}
      },
      "cell_type": "code",
      "source": [
        "from sklearn.model_selection import train_test_split\n",
        "x_train, x_valid, y_train, y_valid = train_test_split(x, y, test_size = 0.2, random_state = 101)\n",
        "y_train = to_categorical(y_train, num_classes = 2)\n",
        "y_valid = to_categorical(y_valid, num_classes = 2)\n",
        "del x, y"
      ],
      "execution_count": 0,
      "outputs": []
    },
    {
      "metadata": {
        "id": "AzA1VSYVHlGe",
        "colab_type": "code",
        "colab": {}
      },
      "cell_type": "code",
      "source": [
        "import keras\n",
        "from keras.models import Sequential,Input,Model\n",
        "from keras.layers import Conv2D, MaxPooling2D, MaxPooling1D, GlobalAveragePooling2D, Dense, Dropout, Flatten, Input, LSTM, TimeDistributed\n",
        "from keras.layers.normalization import BatchNormalization\n",
        "from keras.layers.advanced_activations import LeakyReLU \n",
        "model = Sequential()\n",
        "model.add(Conv2D(32,(7,7),activation='relu'))\n",
        "model.add(MaxPooling2D((2,2)))\n",
        "model.add(BatchNormalization())\n",
        "model.add(Dropout(0.15))\n",
        "model.add(Conv2D(64,(5,5),activation='relu'))\n",
        "model.add(MaxPooling2D((2,2)))\n",
        "model.add(BatchNormalization())\n",
        "model.add(Dropout(0.15))\n",
        "model.add(Conv2D(128,(3,3),activation='relu'))\n",
        "model.add(MaxPooling2D((2,2)))\n",
        "model.add(BatchNormalization())\n",
        "model.add(Dropout(0.15))\n",
        "model.add(Conv2D(128,(3,3),activation='relu'))\n",
        "model.add(MaxPooling2D((2,2)))\n",
        "model.add(BatchNormalization())\n",
        "model.add(Dropout(0.15))\n",
        "model.add(GlobalAveragePooling2D())\n",
        "model.add(Dense(1000, activation='relu'))\n",
        "model.add(Dense(2,activation='sigmoid'))\n",
        "model.compile(optimizer='adam', loss = 'binary_crossentropy', metrics=['accuracy'])\n",
        "#model.summary()\n"
      ],
      "execution_count": 0,
      "outputs": []
    },
    {
      "metadata": {
        "id": "F1thkHdqTnlT",
        "colab_type": "code",
        "colab": {}
      },
      "cell_type": "code",
      "source": [
        "from keras.utils.vis_utils import plot_model\n",
        "plot_model(model, to_file='best_architecture.png', show_shapes=True, show_layer_names=True)"
      ],
      "execution_count": 0,
      "outputs": []
    },
    {
      "metadata": {
        "id": "8P5iNUXPj6H-",
        "colab_type": "code",
        "colab": {}
      },
      "cell_type": "code",
      "source": [
        "from keras.callbacks import ModelCheckpoint\n",
        "mcp = ModelCheckpoint(filepath='model_check.h5',monitor=\"val_acc\", save_best_only=True, save_weights_only=False)"
      ],
      "execution_count": 0,
      "outputs": []
    },
    {
      "metadata": {
        "id": "kjwDXtB3Hu_I",
        "colab_type": "code",
        "outputId": "f0719f4d-e096-49cf-d7cc-e68621de772e",
        "colab": {
          "base_uri": "https://localhost:8080/",
          "height": 1678
        }
      },
      "cell_type": "code",
      "source": [
        "\n",
        "hist = model.fit(x_train,y_train,batch_size = 32, epochs = 40, verbose=1,  validation_split=0.2, callbacks=[mcp])\n",
        "model.save_weights('new.h5')"
      ],
      "execution_count": 29,
      "outputs": [
        {
          "output_type": "stream",
          "text": [
            "WARNING:tensorflow:From /usr/local/lib/python3.6/dist-packages/keras/backend/tensorflow_backend.py:3445: calling dropout (from tensorflow.python.ops.nn_ops) with keep_prob is deprecated and will be removed in a future version.\n",
            "Instructions for updating:\n",
            "Please use `rate` instead of `keep_prob`. Rate should be set to `rate = 1 - keep_prob`.\n",
            "WARNING:tensorflow:From /usr/local/lib/python3.6/dist-packages/tensorflow/python/ops/math_ops.py:3066: to_int32 (from tensorflow.python.ops.math_ops) is deprecated and will be removed in a future version.\n",
            "Instructions for updating:\n",
            "Use tf.cast instead.\n",
            "Train on 11243 samples, validate on 2811 samples\n",
            "Epoch 1/40\n",
            "11243/11243 [==============================] - 71s 6ms/step - loss: 0.2557 - acc: 0.8962 - val_loss: 0.5397 - val_acc: 0.7981\n",
            "Epoch 2/40\n",
            "11243/11243 [==============================] - 66s 6ms/step - loss: 0.1842 - acc: 0.9285 - val_loss: 2.1521 - val_acc: 0.3340\n",
            "Epoch 3/40\n",
            "11243/11243 [==============================] - 66s 6ms/step - loss: 0.1550 - acc: 0.9430 - val_loss: 0.3520 - val_acc: 0.8534\n",
            "Epoch 4/40\n",
            "11243/11243 [==============================] - 66s 6ms/step - loss: 0.1348 - acc: 0.9501 - val_loss: 0.3298 - val_acc: 0.8485\n",
            "Epoch 5/40\n",
            "11243/11243 [==============================] - 66s 6ms/step - loss: 0.1211 - acc: 0.9545 - val_loss: 0.2312 - val_acc: 0.8972\n",
            "Epoch 6/40\n",
            "11243/11243 [==============================] - 65s 6ms/step - loss: 0.1061 - acc: 0.9610 - val_loss: 0.2780 - val_acc: 0.9059\n",
            "Epoch 7/40\n",
            "11243/11243 [==============================] - 66s 6ms/step - loss: 0.0928 - acc: 0.9657 - val_loss: 0.0857 - val_acc: 0.9678\n",
            "Epoch 8/40\n",
            "11243/11243 [==============================] - 66s 6ms/step - loss: 0.0847 - acc: 0.9678 - val_loss: 0.1510 - val_acc: 0.9401\n",
            "Epoch 9/40\n",
            "11243/11243 [==============================] - 66s 6ms/step - loss: 0.0820 - acc: 0.9694 - val_loss: 1.6827 - val_acc: 0.5470\n",
            "Epoch 10/40\n",
            "11243/11243 [==============================] - 66s 6ms/step - loss: 0.0759 - acc: 0.9727 - val_loss: 0.9048 - val_acc: 0.7552\n",
            "Epoch 11/40\n",
            "11243/11243 [==============================] - 65s 6ms/step - loss: 0.0614 - acc: 0.9770 - val_loss: 0.0671 - val_acc: 0.9767\n",
            "Epoch 12/40\n",
            "11243/11243 [==============================] - 66s 6ms/step - loss: 0.0581 - acc: 0.9802 - val_loss: 0.5070 - val_acc: 0.8358\n",
            "Epoch 13/40\n",
            "11243/11243 [==============================] - 66s 6ms/step - loss: 0.0463 - acc: 0.9838 - val_loss: 0.4670 - val_acc: 0.8904\n",
            "Epoch 14/40\n",
            "11243/11243 [==============================] - 66s 6ms/step - loss: 0.0491 - acc: 0.9827 - val_loss: 0.4420 - val_acc: 0.8771\n",
            "Epoch 15/40\n",
            "11243/11243 [==============================] - 65s 6ms/step - loss: 0.0451 - acc: 0.9839 - val_loss: 1.4105 - val_acc: 0.7688\n",
            "Epoch 16/40\n",
            "11243/11243 [==============================] - 65s 6ms/step - loss: 0.0372 - acc: 0.9859 - val_loss: 0.3980 - val_acc: 0.8776\n",
            "Epoch 17/40\n",
            "11243/11243 [==============================] - 66s 6ms/step - loss: 0.0314 - acc: 0.9880 - val_loss: 0.2204 - val_acc: 0.9463\n",
            "Epoch 18/40\n",
            "11243/11243 [==============================] - 65s 6ms/step - loss: 0.0293 - acc: 0.9900 - val_loss: 0.0517 - val_acc: 0.9799\n",
            "Epoch 19/40\n",
            "11243/11243 [==============================] - 65s 6ms/step - loss: 0.0274 - acc: 0.9903 - val_loss: 0.0610 - val_acc: 0.9785\n",
            "Epoch 20/40\n",
            "11243/11243 [==============================] - 65s 6ms/step - loss: 0.0245 - acc: 0.9900 - val_loss: 0.0365 - val_acc: 0.9890\n",
            "Epoch 21/40\n",
            "11243/11243 [==============================] - 65s 6ms/step - loss: 0.0182 - acc: 0.9932 - val_loss: 0.0799 - val_acc: 0.9721\n",
            "Epoch 22/40\n",
            "11243/11243 [==============================] - 66s 6ms/step - loss: 0.0232 - acc: 0.9909 - val_loss: 0.2276 - val_acc: 0.9361\n",
            "Epoch 23/40\n",
            "11243/11243 [==============================] - 65s 6ms/step - loss: 0.0248 - acc: 0.9906 - val_loss: 0.1452 - val_acc: 0.9509\n",
            "Epoch 24/40\n",
            "11243/11243 [==============================] - 65s 6ms/step - loss: 0.0191 - acc: 0.9934 - val_loss: 0.1359 - val_acc: 0.9619\n",
            "Epoch 25/40\n",
            "11243/11243 [==============================] - 65s 6ms/step - loss: 0.0149 - acc: 0.9944 - val_loss: 1.0557 - val_acc: 0.8255\n",
            "Epoch 26/40\n",
            "11243/11243 [==============================] - 65s 6ms/step - loss: 0.0161 - acc: 0.9936 - val_loss: 0.1417 - val_acc: 0.9591\n",
            "Epoch 27/40\n",
            "11243/11243 [==============================] - 66s 6ms/step - loss: 0.0132 - acc: 0.9948 - val_loss: 1.0247 - val_acc: 0.8063\n",
            "Epoch 28/40\n",
            "11243/11243 [==============================] - 66s 6ms/step - loss: 0.0149 - acc: 0.9940 - val_loss: 0.9037 - val_acc: 0.8746\n",
            "Epoch 29/40\n",
            "11243/11243 [==============================] - 66s 6ms/step - loss: 0.0168 - acc: 0.9936 - val_loss: 0.0384 - val_acc: 0.9908\n",
            "Epoch 30/40\n",
            "11243/11243 [==============================] - 66s 6ms/step - loss: 0.0147 - acc: 0.9943 - val_loss: 0.1094 - val_acc: 0.9691\n",
            "Epoch 31/40\n",
            "11243/11243 [==============================] - 66s 6ms/step - loss: 0.0218 - acc: 0.9922 - val_loss: 0.4607 - val_acc: 0.8927\n",
            "Epoch 32/40\n",
            "11243/11243 [==============================] - 66s 6ms/step - loss: 0.0118 - acc: 0.9959 - val_loss: 0.0533 - val_acc: 0.9833\n",
            "Epoch 33/40\n",
            "11243/11243 [==============================] - 66s 6ms/step - loss: 0.0092 - acc: 0.9970 - val_loss: 0.0766 - val_acc: 0.9801\n",
            "Epoch 34/40\n",
            "11243/11243 [==============================] - 66s 6ms/step - loss: 0.0118 - acc: 0.9957 - val_loss: 0.0116 - val_acc: 0.9950\n",
            "Epoch 35/40\n",
            "11243/11243 [==============================] - 66s 6ms/step - loss: 0.0147 - acc: 0.9952 - val_loss: 0.2744 - val_acc: 0.9125\n",
            "Epoch 36/40\n",
            "11243/11243 [==============================] - 66s 6ms/step - loss: 0.0156 - acc: 0.9942 - val_loss: 0.0560 - val_acc: 0.9843\n",
            "Epoch 37/40\n",
            "11243/11243 [==============================] - 66s 6ms/step - loss: 0.0079 - acc: 0.9978 - val_loss: 0.0107 - val_acc: 0.9975\n",
            "Epoch 38/40\n",
            "11243/11243 [==============================] - 66s 6ms/step - loss: 0.0119 - acc: 0.9957 - val_loss: 0.0228 - val_acc: 0.9927\n",
            "Epoch 39/40\n",
            "11243/11243 [==============================] - 66s 6ms/step - loss: 0.0050 - acc: 0.9982 - val_loss: 0.2734 - val_acc: 0.9303\n",
            "Epoch 40/40\n",
            "11243/11243 [==============================] - 66s 6ms/step - loss: 0.0120 - acc: 0.9955 - val_loss: 0.0485 - val_acc: 0.9847\n"
          ],
          "name": "stdout"
        }
      ]
    },
    {
      "metadata": {
        "id": "MEy_MeSnyRfv",
        "colab_type": "code",
        "colab": {}
      },
      "cell_type": "code",
      "source": [
        "from keras.models import load_model\n",
        "model.save('model.h5')"
      ],
      "execution_count": 0,
      "outputs": []
    },
    {
      "metadata": {
        "id": "oR5JrW5XH12m",
        "colab_type": "code",
        "outputId": "191a4d66-2edb-4601-dfdd-5307e2c47b9f",
        "colab": {
          "base_uri": "https://localhost:8080/",
          "height": 295
        }
      },
      "cell_type": "code",
      "source": [
        "fig = plt.figure()\n",
        "ax = fig.add_subplot(111)\n",
        "ax.set_facecolor('w')\n",
        "ax.grid(b=False)\n",
        "ax.plot(hist.history['acc'], color='red')\n",
        "ax.plot(hist.history['val_acc'], color ='green')\n",
        "plt.title('model accuracy')\n",
        "plt.ylabel('accuracy')\n",
        "plt.xlabel('epoch')\n",
        "plt.legend(['train', 'test'], loc='lower right')\n",
        "plt.show()"
      ],
      "execution_count": 31,
      "outputs": [
        {
          "output_type": "display_data",
          "data": {
            "image/png": "[encoded data removed]",
            "text/plain": [
              "<Figure size 432x288 with 1 Axes>"
            ]
          },
          "metadata": {
            "tags": []
          }
        }
      ]
    },
    {
      "metadata": {
        "id": "u8eD3QwvH8C5",
        "colab_type": "code",
        "outputId": "ae278cd6-a2f1-454a-9c07-e8c9b4b17fb6",
        "colab": {
          "base_uri": "https://localhost:8080/",
          "height": 295
        }
      },
      "cell_type": "code",
      "source": [
        "fig = plt.figure()\n",
        "ax = fig.add_subplot(111)\n",
        "ax.set_facecolor('w')\n",
        "ax.grid(b=False)\n",
        "ax.plot(hist.history['loss'], color='red')\n",
        "ax.plot(hist.history['val_loss'], color ='green')\n",
        "plt.title('model loss')\n",
        "plt.ylabel('loss')\n",
        "plt.xlabel('epoch')\n",
        "plt.legend(['train', 'test'], loc='upper right')\n",
        "plt.show()"
      ],
      "execution_count": 32,
      "outputs": [
        {
          "output_type": "display_data",
          "data": {
            "image/png": "[encoded data removed]",
            "text/plain": [
              "<Figure size 432x288 with 1 Axes>"
            ]
          },
          "metadata": {
            "tags": []
          }
        }
      ]
    },
    {
      "metadata": {
        "id": "b8fJ_V-WI9Xb",
        "colab_type": "code",
        "outputId": "492643ab-1b3e-47a7-b6d4-ed4231ae339d",
        "colab": {
          "base_uri": "https://localhost:8080/",
          "height": 187
        }
      },
      "cell_type": "code",
      "source": [
        "from sklearn.metrics import classification_report\n",
        "pred = model.predict(x_valid)\n",
        "print(classification_report(np.argmax(y_valid, axis = 1),np.argmax(pred, axis = 1)))"
      ],
      "execution_count": 33,
      "outputs": [
        {
          "output_type": "stream",
          "text": [
            "              precision    recall  f1-score   support\n",
            "\n",
            "           0       1.00      0.93      0.96       959\n",
            "           1       0.98      1.00      0.99      2555\n",
            "\n",
            "   micro avg       0.98      0.98      0.98      3514\n",
            "   macro avg       0.99      0.97      0.98      3514\n",
            "weighted avg       0.98      0.98      0.98      3514\n",
            "\n"
          ],
          "name": "stdout"
        }
      ]
    },
    {
      "metadata": {
        "id": "LcWpEglCH8ro",
        "colab_type": "code",
        "colab": {}
      },
      "cell_type": "code",
      "source": [
        "model.load_weights('model_check.h5')"
      ],
      "execution_count": 0,
      "outputs": []
    },
    {
      "metadata": {
        "id": "vdVa_PKbJIlQ",
        "colab_type": "code",
        "colab": {}
      },
      "cell_type": "code",
      "source": [
        "def plot_confusion_matrix(cm,\n",
        "                          target_names,\n",
        "                          title='Confusion matrix',\n",
        "                          cmap=None,\n",
        "                          normalize=True):\n",
        "    import matplotlib.pyplot as plt\n",
        "    import numpy as np\n",
        "    import itertools\n",
        "\n",
        "    accuracy = np.trace(cm) / float(np.sum(cm))\n",
        "    misclass = 1 - accuracy\n",
        "\n",
        "    if cmap is None:\n",
        "        cmap = plt.get_cmap('Blues')\n",
        "\n",
        "    plt.figure(figsize=(8, 6))\n",
        "    plt.grid(b=False)\n",
        "    plt.imshow(cm, interpolation='nearest', cmap=cmap)\n",
        "    plt.title(title)\n",
        "    plt.colorbar()\n",
        "\n",
        "    if target_names is not None:\n",
        "        tick_marks = np.arange(len(target_names))\n",
        "        plt.xticks(tick_marks, target_names, rotation=45)\n",
        "        plt.yticks(tick_marks, target_names)\n",
        "    if normalize:\n",
        "        cm = cm.astype('float') / cm.sum(axis=1)[:, np.newaxis]\n",
        "\n",
        "\n",
        "    thresh = cm.max() / 1.5 if normalize else cm.max() / 2\n",
        "    for i, j in itertools.product(range(cm.shape[0]), range(cm.shape[1])):\n",
        "        if normalize:\n",
        "            plt.text(j, i, \"{:0.4f}\".format(cm[i, j]),\n",
        "                     horizontalalignment=\"center\",\n",
        "                     color=\"white\" if cm[i, j] > thresh else \"black\")\n",
        "        else:\n",
        "            plt.text(j, i, \"{:,}\".format(cm[i, j]),\n",
        "                     horizontalalignment=\"center\",\n",
        "                     color=\"white\" if cm[i, j] > thresh else \"black\")\n",
        "\n",
        "\n",
        "    plt.tight_layout()\n",
        "    plt.ylabel('True label')\n",
        "    plt.xlabel('Predicted label\\naccuracy={:0.4f}; misclass={:0.4f}'.format(accuracy, misclass))\n",
        "    plt.show()"
      ],
      "execution_count": 0,
      "outputs": []
    },
    {
      "metadata": {
        "id": "_3kOGV3HJNnL",
        "colab_type": "code",
        "outputId": "776e9e17-dcb2-4a2b-e0d4-d1a110e146c5",
        "colab": {
          "base_uri": "https://localhost:8080/",
          "height": 467
        }
      },
      "cell_type": "code",
      "source": [
        "from sklearn.metrics import confusion_matrix\n",
        "cm = confusion_matrix(np.argmax(y_valid, axis = 1),np.argmax(pred, axis = 1))\n",
        "plot_confusion_matrix(cm = cm,\n",
        "                      normalize    = False,\n",
        "                      cmap ='Reds',\n",
        "                      target_names = ['0','1'],\n",
        "                      title        = \"Confusion Matrix\")"
      ],
      "execution_count": 36,
      "outputs": [
        {
          "output_type": "display_data",
          "data": {
            "image/png": "[encoded data removed]",
            "text/plain": [
              "<Figure size 576x432 with 2 Axes>"
            ]
          },
          "metadata": {
            "tags": []
          }
        }
      ]
    },
    {
      "metadata": {
        "id": "s_Y-k0f8S22i",
        "colab_type": "code",
        "colab": {}
      },
      "cell_type": "code",
      "source": [
        "#testing results on one image\n",
        "image = cv2.imread('chest_xray/val/NORMAL/NORMAL2-IM-1430-0001.jpeg')\n",
        "re_im = cv2.resize(image, (224, 224), interpolation=cv2.INTER_CUBIC)\n",
        "re_im =np.expand_dims(re_im,axis=0)"
      ],
      "execution_count": 0,
      "outputs": []
    },
    {
      "metadata": {
        "id": "DDoofDRaaTW2",
        "colab_type": "code",
        "colab": {}
      },
      "cell_type": "code",
      "source": [
        "result = model.predict(re_im)"
      ],
      "execution_count": 0,
      "outputs": []
    },
    {
      "metadata": {
        "id": "DPcVJxcEavkO",
        "colab_type": "code",
        "outputId": "fb2a0cc7-77b6-441e-a975-7cefa12afecc",
        "colab": {
          "base_uri": "https://localhost:8080/",
          "height": 36
        }
      },
      "cell_type": "code",
      "source": [
        "result"
      ],
      "execution_count": 39,
      "outputs": [
        {
          "output_type": "execute_result",
          "data": {
            "text/plain": [
              "array([[0.95959294, 0.04274617]], dtype=float32)"
            ]
          },
          "metadata": {
            "tags": []
          },
          "execution_count": 39
        }
      ]
    },
    {
      "metadata": {
        "id": "abf4qHK6cmZJ",
        "colab_type": "code",
        "colab": {}
      },
      "cell_type": "code",
      "source": [
        ""
      ],
      "execution_count": 0,
      "outputs": []
    }
  ]
}