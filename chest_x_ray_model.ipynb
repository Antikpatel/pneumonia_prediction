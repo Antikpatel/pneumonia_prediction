{
  "nbformat": 4,
  "nbformat_minor": 0,
  "metadata": {
    "colab": {
      "name": "bestchestxay model.ipynb",
      "version": "0.3.2",
      "provenance": []
    },
    "kernelspec": {
      "name": "python3",
      "display_name": "Python 3"
    },
    "accelerator": "GPU"
  },
  "cells": [
    {
      "metadata": {
        "id": "zhw6ZYGUG34Z",
        "colab_type": "code",
        "colab": {
          "base_uri": "https://localhost:8080/",
          "height": 55
        },
        "outputId": "1cc8d6a4-a9ce-4d73-8dfa-9442551b5142"
      },
      "cell_type": "code",
      "source": [
        "import numpy as np # linear algebra\n",
        "import pandas as pd # data processing, \n",
        "\n",
        "import os\n",
        "print(os.listdir(\"chest_xray\"))\n",
        "from glob import glob\n",
        "from PIL import Image\n",
        "%matplotlib inline\n",
        "import matplotlib.pyplot as plt\n",
        "import cv2\n",
        "import fnmatch\n",
        "import keras\n",
        "from time import sleep\n",
        "from keras.utils import to_categorical\n",
        "from keras.models import Sequential\n",
        "from keras.layers import Dense,Conv2D,MaxPool2D,Dropout,Flatten,BatchNormalization,MaxPooling2D,Activation\n",
        "from keras.optimizers import RMSprop,Adam\n",
        "from tensorflow.keras.callbacks import EarlyStopping\n",
        "from keras import backend as k"
      ],
      "execution_count": 3,
      "outputs": [
        {
          "output_type": "stream",
          "text": [
            "['val', '.DS_Store', 'test', 'train']\n"
          ],
          "name": "stdout"
        },
        {
          "output_type": "stream",
          "text": [
            "Using TensorFlow backend.\n"
          ],
          "name": "stderr"
        }
      ]
    },
    {
      "metadata": {
        "id": "SJN0oFvTHLGf",
        "colab_type": "code",
        "colab": {
          "base_uri": "https://localhost:8080/",
          "height": 36
        },
        "outputId": "23af05e2-3acb-4a84-8bc2-c96726d52211"
      },
      "cell_type": "code",
      "source": [
        "imagePatches = glob('chest_xray/**/**/*.jpeg', recursive=True)\n",
        "print(len(imagePatches))"
      ],
      "execution_count": 4,
      "outputs": [
        {
          "output_type": "stream",
          "text": [
            "17568\n"
          ],
          "name": "stdout"
        }
      ]
    },
    {
      "metadata": {
        "id": "wkX2OsKTHah2",
        "colab_type": "code",
        "colab": {}
      },
      "cell_type": "code",
      "source": [
        "pattern_normal = '*NORMAL*'\n",
        "pattern_bacteria = '*_bacteria_*'\n",
        "pattern_virus = '*_virus_*'\n",
        "\n",
        "normal = fnmatch.filter(imagePatches, pattern_normal)\n",
        "bacteria = fnmatch.filter(imagePatches, pattern_bacteria)\n",
        "virus = fnmatch.filter(imagePatches, pattern_virus)\n",
        "x = []\n",
        "y = []\n",
        "for img in imagePatches:\n",
        "    full_size_image = cv2.imread(img)\n",
        "    im = cv2.resize(full_size_image, (224, 224), interpolation=cv2.INTER_CUBIC)\n",
        "    x.append(im)\n",
        "    if img in normal:\n",
        "        y.append(0)\n",
        "    elif img in bacteria:\n",
        "        y.append(1)\n",
        "    elif img in virus:\n",
        "        y.append(1)\n",
        "    else:\n",
        "        #break\n",
        "        print('no class')\n",
        "x = np.array(x)\n",
        "y = np.array(y)"
      ],
      "execution_count": 0,
      "outputs": []
    },
    {
      "metadata": {
        "id": "hyQn7HK0HgAv",
        "colab_type": "code",
        "colab": {}
      },
      "cell_type": "code",
      "source": [
        "from sklearn.model_selection import train_test_split\n",
        "x_train, x_valid, y_train, y_valid = train_test_split(x, y, test_size = 0.2, random_state = 101)\n",
        "y_train = to_categorical(y_train, num_classes = 2)\n",
        "y_valid = to_categorical(y_valid, num_classes = 2)\n",
        "del x, y"
      ],
      "execution_count": 0,
      "outputs": []
    },
    {
      "metadata": {
        "id": "AzA1VSYVHlGe",
        "colab_type": "code",
        "colab": {
          "base_uri": "https://localhost:8080/",
          "height": 94
        },
        "outputId": "92404882-9997-4819-f8b1-bd6b908bda6e"
      },
      "cell_type": "code",
      "source": [
        "import keras\n",
        "from keras.models import Sequential,Input,Model\n",
        "from keras.layers import Conv2D, MaxPooling2D, MaxPooling1D, GlobalAveragePooling2D, Dense, Dropout, Flatten, Input, LSTM, TimeDistributed\n",
        "from keras.layers.normalization import BatchNormalization\n",
        "from keras.layers.advanced_activations import LeakyReLU \n",
        "model = Sequential()\n",
        "model.add(Conv2D(32,(7,7),activation='relu'))\n",
        "model.add(MaxPooling2D((2,2)))\n",
        "model.add(BatchNormalization())\n",
        "model.add(Dropout(0.15))\n",
        "model.add(Conv2D(64,(5,5),activation='relu'))\n",
        "model.add(MaxPooling2D((2,2)))\n",
        "model.add(BatchNormalization())\n",
        "model.add(Dropout(0.15))\n",
        "model.add(Conv2D(128,(3,3),activation='relu'))\n",
        "model.add(MaxPooling2D((2,2)))\n",
        "model.add(BatchNormalization())\n",
        "model.add(Dropout(0.15))\n",
        "model.add(Conv2D(128,(3,3),activation='relu'))\n",
        "model.add(MaxPooling2D((2,2)))\n",
        "model.add(BatchNormalization())\n",
        "model.add(Dropout(0.15))\n",
        "model.add(GlobalAveragePooling2D())\n",
        "model.add(Dense(1000, activation='relu'))\n",
        "model.add(Dense(2,activation='softmax'))\n",
        "model.compile(optimizer='adam', loss = 'categorical_crossentropy', metrics=['accuracy'])\n",
        "#model.summary()\n"
      ],
      "execution_count": 8,
      "outputs": [
        {
          "output_type": "stream",
          "text": [
            "WARNING:tensorflow:From /usr/local/lib/python3.6/dist-packages/tensorflow/python/framework/op_def_library.py:263: colocate_with (from tensorflow.python.framework.ops) is deprecated and will be removed in a future version.\n",
            "Instructions for updating:\n",
            "Colocations handled automatically by placer.\n"
          ],
          "name": "stdout"
        }
      ]
    },
    {
      "metadata": {
        "id": "F1thkHdqTnlT",
        "colab_type": "code",
        "colab": {}
      },
      "cell_type": "code",
      "source": [
        "from keras.utils.vis_utils import plot_model\n",
        "plot_model(model, to_file='best_architecture.png', show_shapes=True, show_layer_names=True)"
      ],
      "execution_count": 0,
      "outputs": []
    },
    {
      "metadata": {
        "id": "kjwDXtB3Hu_I",
        "colab_type": "code",
        "colab": {
          "base_uri": "https://localhost:8080/",
          "height": 1678
        },
        "outputId": "acb46a71-c297-46c6-c1f4-3624c370cbe1"
      },
      "cell_type": "code",
      "source": [
        "from keras.callbacks import ModelCheckpoint\n",
        "mcp = ModelCheckpoint(filepath='model_check.hdf5',monitor=\"val_acc\", save_best_only=True, save_weights_only=False)\n",
        "hist = model.fit(x_train,y_train,batch_size = 32, epochs = 40, verbose=1,  validation_split=0.2, callbacks=[mcp])"
      ],
      "execution_count": 9,
      "outputs": [
        {
          "output_type": "stream",
          "text": [
            "WARNING:tensorflow:From /usr/local/lib/python3.6/dist-packages/keras/backend/tensorflow_backend.py:3445: calling dropout (from tensorflow.python.ops.nn_ops) with keep_prob is deprecated and will be removed in a future version.\n",
            "Instructions for updating:\n",
            "Please use `rate` instead of `keep_prob`. Rate should be set to `rate = 1 - keep_prob`.\n",
            "WARNING:tensorflow:From /usr/local/lib/python3.6/dist-packages/tensorflow/python/ops/math_ops.py:3066: to_int32 (from tensorflow.python.ops.math_ops) is deprecated and will be removed in a future version.\n",
            "Instructions for updating:\n",
            "Use tf.cast instead.\n",
            "Train on 11243 samples, validate on 2811 samples\n",
            "Epoch 1/40\n",
            "11243/11243 [==============================] - 67s 6ms/step - loss: 0.2321 - acc: 0.9068 - val_loss: 3.4372 - val_acc: 0.7140\n",
            "Epoch 2/40\n",
            "11243/11243 [==============================] - 64s 6ms/step - loss: 0.1631 - acc: 0.9390 - val_loss: 0.8832 - val_acc: 0.7147\n",
            "Epoch 3/40\n",
            "11243/11243 [==============================] - 64s 6ms/step - loss: 0.1451 - acc: 0.9460 - val_loss: 0.6359 - val_acc: 0.7044\n",
            "Epoch 4/40\n",
            "11243/11243 [==============================] - 64s 6ms/step - loss: 0.1342 - acc: 0.9502 - val_loss: 1.1909 - val_acc: 0.7143\n",
            "Epoch 5/40\n",
            "11243/11243 [==============================] - 63s 6ms/step - loss: 0.1125 - acc: 0.9572 - val_loss: 0.8530 - val_acc: 0.7314\n",
            "Epoch 6/40\n",
            "11243/11243 [==============================] - 64s 6ms/step - loss: 0.1040 - acc: 0.9614 - val_loss: 0.2605 - val_acc: 0.9153\n",
            "Epoch 7/40\n",
            "11243/11243 [==============================] - 64s 6ms/step - loss: 0.0862 - acc: 0.9670 - val_loss: 0.2174 - val_acc: 0.9217\n",
            "Epoch 8/40\n",
            "11243/11243 [==============================] - 64s 6ms/step - loss: 0.0741 - acc: 0.9743 - val_loss: 1.3076 - val_acc: 0.7513\n",
            "Epoch 9/40\n",
            "11243/11243 [==============================] - 64s 6ms/step - loss: 0.0688 - acc: 0.9746 - val_loss: 0.1206 - val_acc: 0.9602\n",
            "Epoch 10/40\n",
            "11243/11243 [==============================] - 64s 6ms/step - loss: 0.0595 - acc: 0.9786 - val_loss: 0.5777 - val_acc: 0.8556\n",
            "Epoch 11/40\n",
            "11243/11243 [==============================] - 64s 6ms/step - loss: 0.0527 - acc: 0.9791 - val_loss: 1.7521 - val_acc: 0.7211\n",
            "Epoch 12/40\n",
            "11243/11243 [==============================] - 64s 6ms/step - loss: 0.0501 - acc: 0.9816 - val_loss: 0.1332 - val_acc: 0.9644\n",
            "Epoch 13/40\n",
            "11243/11243 [==============================] - 64s 6ms/step - loss: 0.0453 - acc: 0.9835 - val_loss: 0.4243 - val_acc: 0.8641\n",
            "Epoch 14/40\n",
            "11243/11243 [==============================] - 64s 6ms/step - loss: 0.0366 - acc: 0.9860 - val_loss: 0.6142 - val_acc: 0.8445\n",
            "Epoch 15/40\n",
            "11243/11243 [==============================] - 64s 6ms/step - loss: 0.0339 - acc: 0.9894 - val_loss: 0.1244 - val_acc: 0.9637\n",
            "Epoch 16/40\n",
            "11243/11243 [==============================] - 64s 6ms/step - loss: 0.0394 - acc: 0.9858 - val_loss: 0.1049 - val_acc: 0.9698\n",
            "Epoch 17/40\n",
            "11243/11243 [==============================] - 64s 6ms/step - loss: 0.0208 - acc: 0.9926 - val_loss: 0.0717 - val_acc: 0.9851\n",
            "Epoch 18/40\n",
            "11243/11243 [==============================] - 64s 6ms/step - loss: 0.0301 - acc: 0.9896 - val_loss: 0.0730 - val_acc: 0.9843\n",
            "Epoch 19/40\n",
            "11243/11243 [==============================] - 64s 6ms/step - loss: 0.0221 - acc: 0.9919 - val_loss: 0.0767 - val_acc: 0.9751\n",
            "Epoch 20/40\n",
            "11243/11243 [==============================] - 64s 6ms/step - loss: 0.0151 - acc: 0.9942 - val_loss: 0.0537 - val_acc: 0.9900\n",
            "Epoch 21/40\n",
            "11243/11243 [==============================] - 63s 6ms/step - loss: 0.0228 - acc: 0.9922 - val_loss: 0.2514 - val_acc: 0.9452\n",
            "Epoch 22/40\n",
            "11243/11243 [==============================] - 64s 6ms/step - loss: 0.0145 - acc: 0.9952 - val_loss: 0.4559 - val_acc: 0.9032\n",
            "Epoch 23/40\n",
            "11243/11243 [==============================] - 63s 6ms/step - loss: 0.0172 - acc: 0.9936 - val_loss: 0.0642 - val_acc: 0.9872\n",
            "Epoch 24/40\n",
            "11243/11243 [==============================] - 63s 6ms/step - loss: 0.0191 - acc: 0.9926 - val_loss: 1.2535 - val_acc: 0.6631\n",
            "Epoch 25/40\n",
            "11243/11243 [==============================] - 63s 6ms/step - loss: 0.0194 - acc: 0.9930 - val_loss: 0.0522 - val_acc: 0.9932\n",
            "Epoch 26/40\n",
            "11243/11243 [==============================] - 63s 6ms/step - loss: 0.0119 - acc: 0.9966 - val_loss: 0.0818 - val_acc: 0.9787\n",
            "Epoch 27/40\n",
            "11243/11243 [==============================] - 63s 6ms/step - loss: 0.0169 - acc: 0.9939 - val_loss: 0.3124 - val_acc: 0.9296\n",
            "Epoch 28/40\n",
            "11243/11243 [==============================] - 63s 6ms/step - loss: 0.0126 - acc: 0.9956 - val_loss: 0.2707 - val_acc: 0.9498\n",
            "Epoch 29/40\n",
            "11243/11243 [==============================] - 63s 6ms/step - loss: 0.0171 - acc: 0.9939 - val_loss: 2.0094 - val_acc: 0.7375\n",
            "Epoch 30/40\n",
            "11243/11243 [==============================] - 63s 6ms/step - loss: 0.0134 - acc: 0.9948 - val_loss: 0.1106 - val_acc: 0.9680\n",
            "Epoch 31/40\n",
            "11243/11243 [==============================] - 63s 6ms/step - loss: 0.0161 - acc: 0.9945 - val_loss: 1.9796 - val_acc: 0.4988\n",
            "Epoch 32/40\n",
            "11243/11243 [==============================] - 63s 6ms/step - loss: 0.0099 - acc: 0.9961 - val_loss: 0.0970 - val_acc: 0.9868\n",
            "Epoch 33/40\n",
            "11243/11243 [==============================] - 64s 6ms/step - loss: 0.0101 - acc: 0.9966 - val_loss: 0.2120 - val_acc: 0.9605\n",
            "Epoch 34/40\n",
            "11243/11243 [==============================] - 64s 6ms/step - loss: 0.0108 - acc: 0.9957 - val_loss: 0.0936 - val_acc: 0.9744\n",
            "Epoch 35/40\n",
            "11243/11243 [==============================] - 64s 6ms/step - loss: 0.0125 - acc: 0.9956 - val_loss: 0.1061 - val_acc: 0.9719\n",
            "Epoch 36/40\n",
            "11243/11243 [==============================] - 64s 6ms/step - loss: 0.0076 - acc: 0.9975 - val_loss: 0.6113 - val_acc: 0.8915\n",
            "Epoch 37/40\n",
            "11243/11243 [==============================] - 64s 6ms/step - loss: 0.0151 - acc: 0.9941 - val_loss: 0.9961 - val_acc: 0.8474\n",
            "Epoch 38/40\n",
            "11243/11243 [==============================] - 64s 6ms/step - loss: 0.0087 - acc: 0.9966 - val_loss: 0.0817 - val_acc: 0.9904\n",
            "Epoch 39/40\n",
            "11243/11243 [==============================] - 64s 6ms/step - loss: 0.0098 - acc: 0.9965 - val_loss: 0.5608 - val_acc: 0.9018\n",
            "Epoch 40/40\n",
            "11243/11243 [==============================] - 64s 6ms/step - loss: 0.0100 - acc: 0.9969 - val_loss: 0.0643 - val_acc: 0.9908\n"
          ],
          "name": "stdout"
        }
      ]
    },
    {
      "metadata": {
        "id": "oR5JrW5XH12m",
        "colab_type": "code",
        "colab": {
          "base_uri": "https://localhost:8080/",
          "height": 294
        },
        "outputId": "d369d450-23ac-4790-d119-82c5781f7960"
      },
      "cell_type": "code",
      "source": [
        "fig = plt.figure()\n",
        "ax = fig.add_subplot(111)\n",
        "ax.set_facecolor('w')\n",
        "ax.grid(b=False)\n",
        "ax.plot(hist.history['acc'], color='red')\n",
        "ax.plot(hist.history['val_acc'], color ='green')\n",
        "plt.title('model accuracy')\n",
        "plt.ylabel('accuracy')\n",
        "plt.xlabel('epoch')\n",
        "plt.legend(['train', 'test'], loc='lower right')\n",
        "plt.show()"
      ],
      "execution_count": 12,
      "outputs": [
        {
          "output_type": "display_data",
          "data": {
            "image/png": "[encoded data removed]",
            "text/plain": [
              "<Figure size 432x288 with 1 Axes>"
            ]
          },
          "metadata": {
            "tags": []
          }
        }
      ]
    },
    {
      "metadata": {
        "id": "u8eD3QwvH8C5",
        "colab_type": "code",
        "colab": {
          "base_uri": "https://localhost:8080/",
          "height": 294
        },
        "outputId": "66bca1a6-e50e-467a-9c64-a054cb613832"
      },
      "cell_type": "code",
      "source": [
        "fig = plt.figure()\n",
        "ax = fig.add_subplot(111)\n",
        "ax.set_facecolor('w')\n",
        "ax.grid(b=False)\n",
        "ax.plot(hist.history['loss'], color='red')\n",
        "ax.plot(hist.history['val_loss'], color ='green')\n",
        "plt.title('model loss')\n",
        "plt.ylabel('loss')\n",
        "plt.xlabel('epoch')\n",
        "plt.legend(['train', 'test'], loc='upper right')\n",
        "plt.show()"
      ],
      "execution_count": 13,
      "outputs": [
        {
          "output_type": "display_data",
          "data": {
            "image/png": "[encoded data removed]",
            "text/plain": [
              "<Figure size 432x288 with 1 Axes>"
            ]
          },
          "metadata": {
            "tags": []
          }
        }
      ]
    },
    {
      "metadata": {
        "id": "b8fJ_V-WI9Xb",
        "colab_type": "code",
        "colab": {
          "base_uri": "https://localhost:8080/",
          "height": 187
        },
        "outputId": "9d7974e1-a64c-472c-91b3-44a43e76d0a0"
      },
      "cell_type": "code",
      "source": [
        "from sklearn.metrics import classification_report\n",
        "pred = model.predict(x_valid)\n",
        "print(classification_report(np.argmax(y_valid, axis = 1),np.argmax(pred, axis = 1)))"
      ],
      "execution_count": 14,
      "outputs": [
        {
          "output_type": "stream",
          "text": [
            "              precision    recall  f1-score   support\n",
            "\n",
            "           0       0.99      0.99      0.99       930\n",
            "           1       1.00      1.00      1.00      2584\n",
            "\n",
            "   micro avg       0.99      0.99      0.99      3514\n",
            "   macro avg       0.99      0.99      0.99      3514\n",
            "weighted avg       0.99      0.99      0.99      3514\n",
            "\n"
          ],
          "name": "stdout"
        }
      ]
    },
    {
      "metadata": {
        "id": "LcWpEglCH8ro",
        "colab_type": "code",
        "colab": {}
      },
      "cell_type": "code",
      "source": [
        "model.load_weights('model_check.hdf5')"
      ],
      "execution_count": 0,
      "outputs": []
    },
    {
      "metadata": {
        "id": "vdVa_PKbJIlQ",
        "colab_type": "code",
        "colab": {}
      },
      "cell_type": "code",
      "source": [
        "def plot_confusion_matrix(cm,\n",
        "                          target_names,\n",
        "                          title='Confusion matrix',\n",
        "                          cmap=None,\n",
        "                          normalize=True):\n",
        "    import matplotlib.pyplot as plt\n",
        "    import numpy as np\n",
        "    import itertools\n",
        "\n",
        "    accuracy = np.trace(cm) / float(np.sum(cm))\n",
        "    misclass = 1 - accuracy\n",
        "\n",
        "    if cmap is None:\n",
        "        cmap = plt.get_cmap('Blues')\n",
        "\n",
        "    plt.figure(figsize=(8, 6))\n",
        "    plt.grid(b=False)\n",
        "    plt.imshow(cm, interpolation='nearest', cmap=cmap)\n",
        "    plt.title(title)\n",
        "    plt.colorbar()\n",
        "\n",
        "    if target_names is not None:\n",
        "        tick_marks = np.arange(len(target_names))\n",
        "        plt.xticks(tick_marks, target_names, rotation=45)\n",
        "        plt.yticks(tick_marks, target_names)\n",
        "    if normalize:\n",
        "        cm = cm.astype('float') / cm.sum(axis=1)[:, np.newaxis]\n",
        "\n",
        "\n",
        "    thresh = cm.max() / 1.5 if normalize else cm.max() / 2\n",
        "    for i, j in itertools.product(range(cm.shape[0]), range(cm.shape[1])):\n",
        "        if normalize:\n",
        "            plt.text(j, i, \"{:0.4f}\".format(cm[i, j]),\n",
        "                     horizontalalignment=\"center\",\n",
        "                     color=\"white\" if cm[i, j] > thresh else \"black\")\n",
        "        else:\n",
        "            plt.text(j, i, \"{:,}\".format(cm[i, j]),\n",
        "                     horizontalalignment=\"center\",\n",
        "                     color=\"white\" if cm[i, j] > thresh else \"black\")\n",
        "\n",
        "\n",
        "    plt.tight_layout()\n",
        "    plt.ylabel('True label')\n",
        "    plt.xlabel('Predicted label\\naccuracy={:0.4f}; misclass={:0.4f}'.format(accuracy, misclass))\n",
        "    plt.show()"
      ],
      "execution_count": 0,
      "outputs": []
    },
    {
      "metadata": {
        "id": "_3kOGV3HJNnL",
        "colab_type": "code",
        "colab": {
          "base_uri": "https://localhost:8080/",
          "height": 467
        },
        "outputId": "0bd77549-6424-45b8-c91b-28cf9c67fb9d"
      },
      "cell_type": "code",
      "source": [
        "from sklearn.metrics import confusion_matrix\n",
        "cm = confusion_matrix(np.argmax(y_valid, axis = 1),np.argmax(pred, axis = 1))\n",
        "plot_confusion_matrix(cm = cm,\n",
        "                      normalize    = False,\n",
        "                      cmap ='Reds',\n",
        "                      target_names = ['0','1'],\n",
        "                      title        = \"Confusion Matrix\")"
      ],
      "execution_count": 17,
      "outputs": [
        {
          "output_type": "display_data",
          "data": {
            "image/png": "[encoded data removed]",
            "text/plain": [
              "<Figure size 576x432 with 2 Axes>"
            ]
          },
          "metadata": {
            "tags": []
          }
        }
      ]
    },
    {
      "metadata": {
        "id": "s_Y-k0f8S22i",
        "colab_type": "code",
        "colab": {}
      },
      "cell_type": "code",
      "source": [
        "#testing results on one image\n",
        "image = cv2.imread('chest_xray/val/NORMAL/NORMAL2-IM-1430-0001.jpeg')\n",
        "re_im = cv2.resize(image, (224, 224), interpolation=cv2.INTER_CUBIC)\n",
        "re_im =np.expand_dims(re_im,axis=0)"
      ],
      "execution_count": 0,
      "outputs": []
    },
    {
      "metadata": {
        "id": "DDoofDRaaTW2",
        "colab_type": "code",
        "colab": {}
      },
      "cell_type": "code",
      "source": [
        "result = model.predict_classes(re_im)"
      ],
      "execution_count": 0,
      "outputs": []
    },
    {
      "metadata": {
        "id": "DPcVJxcEavkO",
        "colab_type": "code",
        "colab": {
          "base_uri": "https://localhost:8080/",
          "height": 36
        },
        "outputId": "81de867d-0985-4b2e-cac8-cd23f7030c6a"
      },
      "cell_type": "code",
      "source": [
        "result"
      ],
      "execution_count": 54,
      "outputs": [
        {
          "output_type": "execute_result",
          "data": {
            "text/plain": [
              "array([0])"
            ]
          },
          "metadata": {
            "tags": []
          },
          "execution_count": 54
        }
      ]
    },
    {
      "metadata": {
        "id": "abf4qHK6cmZJ",
        "colab_type": "code",
        "colab": {}
      },
      "cell_type": "code",
      "source": [
        ""
      ],
      "execution_count": 0,
      "outputs": []
    }
  ]
}